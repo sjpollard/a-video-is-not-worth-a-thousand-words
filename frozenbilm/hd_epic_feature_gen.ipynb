{
 "cells": [
  {
   "cell_type": "code",
   "execution_count": null,
   "id": "b2c3a745-cc95-41ea-94c4-9558cdfa1332",
   "metadata": {},
   "outputs": [],
   "source": [
    "import os\n",
    "import sys\n",
    "import torch\n",
    "import pandas as pd\n",
    "import numpy as np\n",
    "\n",
    "module_path = os.path.abspath(os.path.join('..'))\n",
    "if module_path not in sys.path:\n",
    "    sys.path.append(module_path)\n",
    "\n",
    "from hd_epic_utils import get_hd_epic, load_videos"
   ]
  },
  {
   "cell_type": "code",
   "execution_count": null,
   "id": "5b04dd49-25e0-4637-9d65-70787fa309a0",
   "metadata": {
    "tags": []
   },
   "outputs": [],
   "source": [
    "frames = 10\n",
    "HD_EPIC_PATH = '<HD-EPIC-ANNOTATIONS-PATH>'\n",
    "VIDEO_PATH = f'<HD-EPIC-VIDEO-PATH>'\n",
    "SUBSET_PATH = '../subsets/hd-epic.csv'\n",
    "\n",
    "qa_data, qa_answers = get_hd_epic(HD_EPIC_PATH)\n",
    "\n",
    "q_uids = pd.read_csv(SUBSET_PATH)['q_uid'].to_list()\n",
    "\n",
    "if not os.path.exists(f\"hd_epic_features_{frames}\"):\n",
    "    os.mkdir(f\"hd_epic_features_{frames}\")"
   ]
  },
  {
   "cell_type": "code",
   "execution_count": null,
   "id": "c9638396-1d35-477b-b4fe-bd8100ca5a58",
   "metadata": {},
   "outputs": [],
   "source": [
    "import math\n",
    "import numpy as np\n",
    "import torch.nn.functional as F\n",
    "from tqdm import tqdm\n",
    "from extract.preprocessing import Preprocessing\n",
    "from args import MODEL_DIR\n",
    "import clip"
   ]
  },
  {
   "cell_type": "code",
   "execution_count": null,
   "id": "8045bfe4-736b-4005-844e-059c19ef3494",
   "metadata": {
    "tags": []
   },
   "outputs": [],
   "source": [
    "preprocess = Preprocessing()\n",
    "model, _ = clip.load(\"ViT-L/14\", download_root=MODEL_DIR)\n",
    "model.eval()\n",
    "model = model.cuda()"
   ]
  },
  {
   "cell_type": "code",
   "execution_count": null,
   "id": "988e093a",
   "metadata": {},
   "outputs": [],
   "source": [
    "with torch.no_grad():\n",
    "    for q_uid in q_uids:\n",
    "        video_frames, input_keys, stride, frame_idx_dict = load_videos(qa_data[q_uid], frames, 1, VIDEO_PATH, 224, 224)\n",
    "        video = torch.from_numpy(np.concatenate(video_frames)).permute((0, 3, 1, 2))\n",
    "        video = preprocess(video)\n",
    "        video = video.cuda()\n",
    "        features = model.encode_image(video)\n",
    "        features = features.cpu().numpy().astype('float16')\n",
    "        np.save(f'hd_epic_features_{frames}/{q_uid}.npy', {'features': features, 'stride': stride}, allow_pickle=True)"
   ]
  }
 ],
 "metadata": {
  "kernelspec": {
   "display_name": "frozenbilm",
   "language": "python",
   "name": "python3"
  },
  "language_info": {
   "codemirror_mode": {
    "name": "ipython",
    "version": 3
   },
   "file_extension": ".py",
   "mimetype": "text/x-python",
   "name": "python",
   "nbconvert_exporter": "python",
   "pygments_lexer": "ipython3",
   "version": "3.8.20"
  }
 },
 "nbformat": 4,
 "nbformat_minor": 5
}
