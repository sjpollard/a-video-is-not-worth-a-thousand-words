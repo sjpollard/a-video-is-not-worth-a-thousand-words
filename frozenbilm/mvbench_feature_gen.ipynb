{
 "cells": [
  {
   "cell_type": "code",
   "execution_count": null,
   "id": "b2c3a745-cc95-41ea-94c4-9558cdfa1332",
   "metadata": {},
   "outputs": [],
   "source": [
    "import os\n",
    "import sys\n",
    "import torch\n",
    "import pandas as pd\n",
    "import numpy as np\n",
    "\n",
    "module_path = os.path.abspath(os.path.join('..'))\n",
    "if module_path not in sys.path:\n",
    "    sys.path.append(module_path)\n",
    "\n",
    "from mvbench_utils import get_mvbench, load_video"
   ]
  },
  {
   "cell_type": "code",
   "execution_count": null,
   "id": "5b04dd49-25e0-4637-9d65-70787fa309a0",
   "metadata": {
    "tags": []
   },
   "outputs": [],
   "source": [
    "frames = 10\n",
    "MVBENCH_PATH = '<MVBENCH_PATH>'\n",
    "VIDEO_PATH = f'<MVBENCH_PATH>/video'\n",
    "SUBSET_PATH = '../subsets/mvbench.csv'\n",
    "\n",
    "qa_data, qa_answers = get_mvbench(MVBENCH_PATH)\n",
    "\n",
    "q_uids = pd.read_csv(SUBSET_PATH)['q_uid'].to_list()\n",
    "\n",
    "if not os.path.exists(f\"mvbench_features_{frames}\"):\n",
    "    os.mkdir(f\"mvbench_features_{frames}\")"
   ]
  },
  {
   "cell_type": "code",
   "execution_count": null,
   "id": "c9638396-1d35-477b-b4fe-bd8100ca5a58",
   "metadata": {},
   "outputs": [],
   "source": [
    "import math\n",
    "import numpy as np\n",
    "import torch.nn.functional as F\n",
    "from tqdm import tqdm\n",
    "from extract.preprocessing import Preprocessing\n",
    "from args import MODEL_DIR\n",
    "import clip"
   ]
  },
  {
   "cell_type": "code",
   "execution_count": null,
   "id": "8045bfe4-736b-4005-844e-059c19ef3494",
   "metadata": {
    "tags": []
   },
   "outputs": [],
   "source": [
    "preprocess = Preprocessing()\n",
    "model, _ = clip.load(\"ViT-L/14\", download_root=MODEL_DIR)\n",
    "model.eval()\n",
    "model = model.cuda()"
   ]
  },
  {
   "cell_type": "code",
   "execution_count": null,
   "id": "988e093a",
   "metadata": {},
   "outputs": [],
   "source": [
    "with torch.no_grad():\n",
    "    for q_uid in q_uids:\n",
    "        video, timestamps = load_video(q_uid, qa_data[q_uid], frames, VIDEO_PATH, 224, 224)\n",
    "        video = torch.from_numpy(video).permute((0, 3, 1, 2))\n",
    "        video = preprocess(video)\n",
    "        video = video.cuda()\n",
    "        features = model.encode_image(video)\n",
    "        features = features.cpu().numpy().astype('float16')\n",
    "        np.save(f'mvbench_features_{frames}/{q_uid}.npy', features)"
   ]
  }
 ],
 "metadata": {
  "kernelspec": {
   "display_name": "frozenbilm",
   "language": "python",
   "name": "python3"
  },
  "language_info": {
   "codemirror_mode": {
    "name": "ipython",
    "version": 3
   },
   "file_extension": ".py",
   "mimetype": "text/x-python",
   "name": "python",
   "nbconvert_exporter": "python",
   "pygments_lexer": "ipython3",
   "version": "3.8.20"
  }
 },
 "nbformat": 4,
 "nbformat_minor": 5
}
